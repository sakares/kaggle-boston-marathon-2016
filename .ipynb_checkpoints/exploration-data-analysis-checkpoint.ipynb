{
 "cells": [
  {
   "cell_type": "code",
   "execution_count": 8,
   "metadata": {
    "collapsed": true
   },
   "outputs": [],
   "source": [
    "import pandas as pd\n",
    "import numpy as np\n",
    "import matplotlib.pyplot as plt\n",
    "import os\n",
    "import seaborn as sns\n",
    "plt.style.use('fivethirtyeight')\n",
    "\n",
    "%matplotlib inline"
   ]
  },
  {
   "cell_type": "code",
   "execution_count": 3,
   "metadata": {
    "collapsed": false
   },
   "outputs": [],
   "source": [
    "df = pd.read_csv('input/marathon_results_2016.csv')\n",
    "\n",
    "top100_runners = df[0:100]\n",
    "\n",
    "runners = top100_runners"
   ]
  },
  {
   "cell_type": "code",
   "execution_count": 6,
   "metadata": {
    "collapsed": false
   },
   "outputs": [
    {
     "data": {
      "text/html": [
       "<div>\n",
       "<table border=\"1\" class=\"dataframe\">\n",
       "  <thead>\n",
       "    <tr style=\"text-align: right;\">\n",
       "      <th></th>\n",
       "      <th>Bib</th>\n",
       "      <th>Name</th>\n",
       "      <th>Age</th>\n",
       "      <th>M/F</th>\n",
       "      <th>City</th>\n",
       "      <th>State</th>\n",
       "      <th>Country</th>\n",
       "      <th>Citizen</th>\n",
       "      <th>Unnamed: 8</th>\n",
       "      <th>5K</th>\n",
       "      <th>...</th>\n",
       "      <th>25K</th>\n",
       "      <th>30K</th>\n",
       "      <th>35K</th>\n",
       "      <th>40K</th>\n",
       "      <th>Pace</th>\n",
       "      <th>Proj Time</th>\n",
       "      <th>Official Time</th>\n",
       "      <th>Overall</th>\n",
       "      <th>Gender</th>\n",
       "      <th>Division</th>\n",
       "    </tr>\n",
       "  </thead>\n",
       "  <tbody>\n",
       "    <tr>\n",
       "      <th>0</th>\n",
       "      <td>5</td>\n",
       "      <td>Hayle, Lemi Berhanu</td>\n",
       "      <td>21</td>\n",
       "      <td>M</td>\n",
       "      <td>Addis Ababa</td>\n",
       "      <td>NaN</td>\n",
       "      <td>ETH</td>\n",
       "      <td>NaN</td>\n",
       "      <td>NaN</td>\n",
       "      <td>0:15:47</td>\n",
       "      <td>...</td>\n",
       "      <td>1:19:15</td>\n",
       "      <td>1:34:17</td>\n",
       "      <td>1:50:24</td>\n",
       "      <td>2:05:59</td>\n",
       "      <td>0:05:04</td>\n",
       "      <td>2:12:45</td>\n",
       "      <td>2:12:45</td>\n",
       "      <td>1</td>\n",
       "      <td>1</td>\n",
       "      <td>1</td>\n",
       "    </tr>\n",
       "    <tr>\n",
       "      <th>1</th>\n",
       "      <td>1</td>\n",
       "      <td>Desisa, Lelisa</td>\n",
       "      <td>26</td>\n",
       "      <td>M</td>\n",
       "      <td>Ambo</td>\n",
       "      <td>NaN</td>\n",
       "      <td>ETH</td>\n",
       "      <td>NaN</td>\n",
       "      <td>NaN</td>\n",
       "      <td>0:15:47</td>\n",
       "      <td>...</td>\n",
       "      <td>1:19:15</td>\n",
       "      <td>1:34:17</td>\n",
       "      <td>1:50:24</td>\n",
       "      <td>2:05:59</td>\n",
       "      <td>0:05:06</td>\n",
       "      <td>2:13:32</td>\n",
       "      <td>2:13:32</td>\n",
       "      <td>2</td>\n",
       "      <td>2</td>\n",
       "      <td>2</td>\n",
       "    </tr>\n",
       "    <tr>\n",
       "      <th>2</th>\n",
       "      <td>6</td>\n",
       "      <td>Tsegay, Yemane Adhane</td>\n",
       "      <td>31</td>\n",
       "      <td>M</td>\n",
       "      <td>Addis Ababa</td>\n",
       "      <td>NaN</td>\n",
       "      <td>ETH</td>\n",
       "      <td>NaN</td>\n",
       "      <td>NaN</td>\n",
       "      <td>0:15:46</td>\n",
       "      <td>...</td>\n",
       "      <td>1:19:15</td>\n",
       "      <td>1:34:45</td>\n",
       "      <td>1:50:48</td>\n",
       "      <td>2:06:47</td>\n",
       "      <td>0:05:07</td>\n",
       "      <td>2:14:02</td>\n",
       "      <td>2:14:02</td>\n",
       "      <td>3</td>\n",
       "      <td>3</td>\n",
       "      <td>3</td>\n",
       "    </tr>\n",
       "    <tr>\n",
       "      <th>3</th>\n",
       "      <td>11</td>\n",
       "      <td>Korir, Wesley</td>\n",
       "      <td>33</td>\n",
       "      <td>M</td>\n",
       "      <td>Kitale</td>\n",
       "      <td>NaN</td>\n",
       "      <td>KEN</td>\n",
       "      <td>NaN</td>\n",
       "      <td>NaN</td>\n",
       "      <td>0:15:46</td>\n",
       "      <td>...</td>\n",
       "      <td>1:19:16</td>\n",
       "      <td>1:34:45</td>\n",
       "      <td>1:50:48</td>\n",
       "      <td>2:06:47</td>\n",
       "      <td>0:05:07</td>\n",
       "      <td>2:14:05</td>\n",
       "      <td>2:14:05</td>\n",
       "      <td>4</td>\n",
       "      <td>4</td>\n",
       "      <td>4</td>\n",
       "    </tr>\n",
       "    <tr>\n",
       "      <th>4</th>\n",
       "      <td>14</td>\n",
       "      <td>Lonyangata, Paul</td>\n",
       "      <td>23</td>\n",
       "      <td>M</td>\n",
       "      <td>Eldoret</td>\n",
       "      <td>NaN</td>\n",
       "      <td>KEN</td>\n",
       "      <td>NaN</td>\n",
       "      <td>NaN</td>\n",
       "      <td>0:15:46</td>\n",
       "      <td>...</td>\n",
       "      <td>1:19:18</td>\n",
       "      <td>1:34:46</td>\n",
       "      <td>1:51:30</td>\n",
       "      <td>2:08:11</td>\n",
       "      <td>0:05:11</td>\n",
       "      <td>2:15:45</td>\n",
       "      <td>2:15:45</td>\n",
       "      <td>5</td>\n",
       "      <td>5</td>\n",
       "      <td>5</td>\n",
       "    </tr>\n",
       "    <tr>\n",
       "      <th>5</th>\n",
       "      <td>3</td>\n",
       "      <td>Kitwara, Sammy</td>\n",
       "      <td>29</td>\n",
       "      <td>M</td>\n",
       "      <td>Eldoret</td>\n",
       "      <td>NaN</td>\n",
       "      <td>KEN</td>\n",
       "      <td>NaN</td>\n",
       "      <td>NaN</td>\n",
       "      <td>0:15:46</td>\n",
       "      <td>...</td>\n",
       "      <td>1:19:17</td>\n",
       "      <td>1:35:03</td>\n",
       "      <td>1:52:19</td>\n",
       "      <td>2:09:07</td>\n",
       "      <td>0:05:13</td>\n",
       "      <td>2:16:43</td>\n",
       "      <td>2:16:43</td>\n",
       "      <td>6</td>\n",
       "      <td>6</td>\n",
       "      <td>6</td>\n",
       "    </tr>\n",
       "    <tr>\n",
       "      <th>6</th>\n",
       "      <td>9</td>\n",
       "      <td>Chebogut, Stephen</td>\n",
       "      <td>31</td>\n",
       "      <td>M</td>\n",
       "      <td>Eldoret</td>\n",
       "      <td>NaN</td>\n",
       "      <td>KEN</td>\n",
       "      <td>NaN</td>\n",
       "      <td>NaN</td>\n",
       "      <td>0:15:47</td>\n",
       "      <td>...</td>\n",
       "      <td>1:19:26</td>\n",
       "      <td>1:34:45</td>\n",
       "      <td>1:50:49</td>\n",
       "      <td>2:08:12</td>\n",
       "      <td>0:05:14</td>\n",
       "      <td>2:16:52</td>\n",
       "      <td>2:16:52</td>\n",
       "      <td>7</td>\n",
       "      <td>7</td>\n",
       "      <td>7</td>\n",
       "    </tr>\n",
       "    <tr>\n",
       "      <th>7</th>\n",
       "      <td>17</td>\n",
       "      <td>Nageeye, Abdi</td>\n",
       "      <td>27</td>\n",
       "      <td>M</td>\n",
       "      <td>Nijmegen</td>\n",
       "      <td>NaN</td>\n",
       "      <td>NED</td>\n",
       "      <td>NaN</td>\n",
       "      <td>NaN</td>\n",
       "      <td>0:15:47</td>\n",
       "      <td>...</td>\n",
       "      <td>1:19:16</td>\n",
       "      <td>1:34:52</td>\n",
       "      <td>1:51:24</td>\n",
       "      <td>2:08:38</td>\n",
       "      <td>0:05:16</td>\n",
       "      <td>2:18:05</td>\n",
       "      <td>2:18:05</td>\n",
       "      <td>8</td>\n",
       "      <td>8</td>\n",
       "      <td>8</td>\n",
       "    </tr>\n",
       "    <tr>\n",
       "      <th>8</th>\n",
       "      <td>7</td>\n",
       "      <td>Feleke, Getu</td>\n",
       "      <td>29</td>\n",
       "      <td>M</td>\n",
       "      <td>Addis Ababa</td>\n",
       "      <td>NaN</td>\n",
       "      <td>ETH</td>\n",
       "      <td>NaN</td>\n",
       "      <td>NaN</td>\n",
       "      <td>0:15:46</td>\n",
       "      <td>...</td>\n",
       "      <td>1:19:17</td>\n",
       "      <td>1:35:39</td>\n",
       "      <td>1:53:52</td>\n",
       "      <td>2:10:57</td>\n",
       "      <td>0:05:18</td>\n",
       "      <td>2:18:46</td>\n",
       "      <td>2:18:46</td>\n",
       "      <td>9</td>\n",
       "      <td>9</td>\n",
       "      <td>9</td>\n",
       "    </tr>\n",
       "    <tr>\n",
       "      <th>9</th>\n",
       "      <td>43</td>\n",
       "      <td>Hine, Zachary</td>\n",
       "      <td>28</td>\n",
       "      <td>M</td>\n",
       "      <td>Dallas</td>\n",
       "      <td>TX</td>\n",
       "      <td>USA</td>\n",
       "      <td>NaN</td>\n",
       "      <td>NaN</td>\n",
       "      <td>0:16:03</td>\n",
       "      <td>...</td>\n",
       "      <td>1:20:38</td>\n",
       "      <td>1:37:26</td>\n",
       "      <td>1:54:46</td>\n",
       "      <td>2:12:47</td>\n",
       "      <td>0:05:25</td>\n",
       "      <td>2:21:37</td>\n",
       "      <td>2:21:37</td>\n",
       "      <td>10</td>\n",
       "      <td>10</td>\n",
       "      <td>10</td>\n",
       "    </tr>\n",
       "  </tbody>\n",
       "</table>\n",
       "<p>10 rows × 24 columns</p>\n",
       "</div>"
      ],
      "text/plain": [
       "  Bib                   Name  Age M/F         City State Country Citizen  \\\n",
       "0   5    Hayle, Lemi Berhanu   21   M  Addis Ababa   NaN     ETH     NaN   \n",
       "1   1         Desisa, Lelisa   26   M         Ambo   NaN     ETH     NaN   \n",
       "2   6  Tsegay, Yemane Adhane   31   M  Addis Ababa   NaN     ETH     NaN   \n",
       "3  11          Korir, Wesley   33   M       Kitale   NaN     KEN     NaN   \n",
       "4  14       Lonyangata, Paul   23   M      Eldoret   NaN     KEN     NaN   \n",
       "5   3         Kitwara, Sammy   29   M      Eldoret   NaN     KEN     NaN   \n",
       "6   9      Chebogut, Stephen   31   M      Eldoret   NaN     KEN     NaN   \n",
       "7  17          Nageeye, Abdi   27   M     Nijmegen   NaN     NED     NaN   \n",
       "8   7           Feleke, Getu   29   M  Addis Ababa   NaN     ETH     NaN   \n",
       "9  43          Hine, Zachary   28   M       Dallas    TX     USA     NaN   \n",
       "\n",
       "  Unnamed: 8       5K   ...         25K      30K      35K      40K     Pace  \\\n",
       "0        NaN  0:15:47   ...     1:19:15  1:34:17  1:50:24  2:05:59  0:05:04   \n",
       "1        NaN  0:15:47   ...     1:19:15  1:34:17  1:50:24  2:05:59  0:05:06   \n",
       "2        NaN  0:15:46   ...     1:19:15  1:34:45  1:50:48  2:06:47  0:05:07   \n",
       "3        NaN  0:15:46   ...     1:19:16  1:34:45  1:50:48  2:06:47  0:05:07   \n",
       "4        NaN  0:15:46   ...     1:19:18  1:34:46  1:51:30  2:08:11  0:05:11   \n",
       "5        NaN  0:15:46   ...     1:19:17  1:35:03  1:52:19  2:09:07  0:05:13   \n",
       "6        NaN  0:15:47   ...     1:19:26  1:34:45  1:50:49  2:08:12  0:05:14   \n",
       "7        NaN  0:15:47   ...     1:19:16  1:34:52  1:51:24  2:08:38  0:05:16   \n",
       "8        NaN  0:15:46   ...     1:19:17  1:35:39  1:53:52  2:10:57  0:05:18   \n",
       "9        NaN  0:16:03   ...     1:20:38  1:37:26  1:54:46  2:12:47  0:05:25   \n",
       "\n",
       "  Proj Time Official Time Overall Gender Division  \n",
       "0   2:12:45       2:12:45       1      1        1  \n",
       "1   2:13:32       2:13:32       2      2        2  \n",
       "2   2:14:02       2:14:02       3      3        3  \n",
       "3   2:14:05       2:14:05       4      4        4  \n",
       "4   2:15:45       2:15:45       5      5        5  \n",
       "5   2:16:43       2:16:43       6      6        6  \n",
       "6   2:16:52       2:16:52       7      7        7  \n",
       "7   2:18:05       2:18:05       8      8        8  \n",
       "8   2:18:46       2:18:46       9      9        9  \n",
       "9   2:21:37       2:21:37      10     10       10  \n",
       "\n",
       "[10 rows x 24 columns]"
      ]
     },
     "execution_count": 6,
     "metadata": {},
     "output_type": "execute_result"
    }
   ],
   "source": [
    "top100_runners.head(10)"
   ]
  },
  {
   "cell_type": "code",
   "execution_count": 9,
   "metadata": {
    "collapsed": false
   },
   "outputs": [
    {
     "data": {
      "image/png": "[encoded data removed]",
      "text/plain": [
       "<matplotlib.figure.Figure at 0x1d1698decf8>"
      ]
     },
     "metadata": {},
     "output_type": "display_data"
    }
   ],
   "source": [
    "ax = sns.boxplot(x=\"M/F\", y=\"Overall\", data=runners)\n",
    "ax = sns.stripplot(x=\"M/F\", y=\"Overall\", data=runners, jitter=True, edgecolor=\"gray\")"
   ]
  },
  {
   "cell_type": "code",
   "execution_count": 11,
   "metadata": {
    "collapsed": false
   },
   "outputs": [
    {
     "data": {
      "text/plain": [
       "<seaborn.axisgrid.JointGrid at 0x1d169e92160>"
      ]
     },
     "execution_count": 11,
     "metadata": {},
     "output_type": "execute_result"
    },
    {
     "data": {
      "image/png": "[encoded data removed]",
      "text/plain": [
       "<matplotlib.figure.Figure at 0x1d169e92518>"
      ]
     },
     "metadata": {},
     "output_type": "display_data"
    }
   ],
   "source": [
    "sns.jointplot(x=\"Age\", y=\"Overall\", data=runners, size=7)"
   ]
  },
  {
   "cell_type": "code",
   "execution_count": 12,
   "metadata": {
    "collapsed": false
   },
   "outputs": [
    {
     "data": {
      "text/plain": [
       "<seaborn.axisgrid.FacetGrid at 0x1d16a076e10>"
      ]
     },
     "execution_count": 12,
     "metadata": {},
     "output_type": "execute_result"
    },
    {
     "data": {
      "image/png": "[encoded data removed]",
      "text/plain": [
       "<matplotlib.figure.Figure at 0x1d16a0688d0>"
      ]
     },
     "metadata": {},
     "output_type": "display_data"
    }
   ],
   "source": [
    "sns.FacetGrid(runners, hue=\"M/F\", size=7) \\\n",
    "  .map(plt.scatter, \"Overall\", \"Age\") \\\n",
    "  .add_legend()"
   ]
  },
  {
   "cell_type": "code",
   "execution_count": 16,
   "metadata": {
    "collapsed": false
   },
   "outputs": [
    {
     "data": {
      "text/plain": [
       "<matplotlib.axes._subplots.AxesSubplot at 0x1d16a143cf8>"
      ]
     },
     "execution_count": 16,
     "metadata": {},
     "output_type": "execute_result"
    },
    {
     "data": {
      "image/png": "[encoded data removed]",
      "text/plain": [
       "<matplotlib.figure.Figure at 0x1d16a7e5668>"
      ]
     },
     "metadata": {},
     "output_type": "display_data"
    }
   ],
   "source": [
    "# A violin plot combines the benefits of the previous two plots and simplifies them\n",
    "# Denser regions of the data are fatter, and sparser thiner in a violin plot\n",
    "\n",
    "sns.violinplot(x=\"Age\", y=\"Overall\", data=runners, size=6)"
   ]
  },
  {
   "cell_type": "code",
   "execution_count": null,
   "metadata": {
    "collapsed": true
   },
   "outputs": [],
   "source": []
  }
 ],
 "metadata": {
  "kernelspec": {
   "display_name": "Python 3",
   "language": "python",
   "name": "python3"
  },
  "language_info": {
   "codemirror_mode": {
    "name": "ipython",
    "version": 3
   },
   "file_extension": ".py",
   "mimetype": "text/x-python",
   "name": "python",
   "nbconvert_exporter": "python",
   "pygments_lexer": "ipython3",
   "version": "3.6.0"
  }
 },
 "nbformat": 4,
 "nbformat_minor": 2
}
